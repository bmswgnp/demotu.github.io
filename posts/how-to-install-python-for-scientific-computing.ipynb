{
 "metadata": {
  "name": "",
  "signature": "sha256:3af3b33d52959ad6a6a461c2744909faa4cba92e2e9b716642ba96214d8f8db9"
 },
 "nbformat": 3,
 "nbformat_minor": 0,
 "worksheets": [
  {
   "cells": [
    {
     "cell_type": "markdown",
     "metadata": {},
     "source": [
      "To install Python, the source or binary file with the most-widely used implementation of the language (CPython) is quite small, about 25 MB depending on your operating system (see http://python.org/download/). By the way, you should use Python 3. A problem might be to install all other Python packages we need for scientific computing that don't ship with the standard Python distribution. There are different ways of achieving that and we will see here what I think is the most simple.\n",
      "\n",
      "**The short version**\n",
      "\n",
      "The easiest way to get Python and the most popular packages for scientific computing is to install the [*Anaconda* distribution](https://store.continuum.io/cshop/anaconda/). *Anaconda* is both free and cross-platform. Download *Anaconda* (for Python 3!), run the file, and follow the instructions on the screen.  \n",
      "\n",
      "<!-- TEASER_END -->\n",
      "\n",
      "**The long version**\n",
      "\n",
      "First and foremost, Python already comes installed in your computer if you have a Mac OS (from Apple) or a Linux OS in your computer. Unfortunately, Windows OS (from Microsoft) does not come with Python. If you have a computer with Mac OSX or Linux OS, you can check the Python distribution you have by opening a *Terminal* window. On Mac OSX, you can either open the *Terminal*  by navigating in the main menu to *Applications -> Utilities* and then clicking on the *Terminal* icon, or by hitting the *Spotlight* shortcut `Command + Spacebar` and typing 'terminal'). On Linux, you can open the *Terminal* in a similar way by navigating in the main menu to *Applications -> Utilities* and then clicking on the Terminal icon, or yet open the *Terminal* by hitting the keyboard shortcut `Ctrl+Alt+T` (usually the default shortcut for *Terminal*). Here is a screenshot of the *Terminal* window on Mac OSX after I typed 'python' (without the quotation marks) and hit `Enter`:\n",
      "\n",
      "<div class='center-align'><figure><img src=\"http://demotu.github.io/galleries/images/terminal_mac_osx.png\" alt=\"Mac OSX Terminal window\"/><figcaption><i>Running Python in a *Terminal* window on Mac OSX.</i></figcaption></figure></div> \n",
      "\n",
      "In fact, the Python shown above is not the one that came with Mac OSX. The Python above was installed with the [*Homebrew* software](http://brew.sh/). You would need to do something like that only if you want to install Python and its packages one by one, which I wouldn't recommend. More on this later. Here is a screenshot of the *Terminal* window on Linux Ubuntu OS after I typed 'python' (without the quotation marks) and hit `Enter`:\n",
      "\n",
      "<div class='center-align'><figure><img src=\"http://demotu.github.io/galleries/images/terminal_linux_ubuntu.png\" alt=\"Linux Ubuntu Terminal window\"/><figcaption><i>Running Python in a *Terminal* window on Linux Ubuntu OS.</i></figcaption></figure></div> \n",
      "\n",
      "On Windows, the equivalent of the *Terminal* window is the *Command Prompt* window. You can either open *Command Prompt* window by navigating in the main menu to *All Programs -> Accessories -> Utilities* and then clicking on the *Command Prompt* icon. Here is a screenshot of the *Command Prompt* window on Windows 7 OS after I typed 'python' (without the quotation marks) and hit `Enter`:\n",
      "\n",
      "<div class='center-align'><figure><img src=\"http://demotu.github.io/galleries/images/command_prompt.png\" alt=\"Windows OS Command Prompt\"/><figcaption><i>Running Python in a *Command Prompt* window on Windows 7 OS.</i></figcaption></figure></div>  \n",
      "\n",
      "Of course, you would see a screen like above only if you already have Python installed in your Windows OS.\n",
      "\n",
      "Even if you already have Python installed because it came with Mac OSX or Linux, it is a safe idea to install another version of Python to not mess with the installation of your OS (Python is used by Mac OSX and Linux to run internal programs; in Windows another language, .NET, is used for that). Python itself is simple to install, the problem is to install its packages for scientific programming. Here is a list of the most popular Python packages for scientific programming which will be used in these notes:   \n",
      "\n",
      "- Python of course (the CPython distribution): a free, open source and cross-platform programming language that lets you work more quickly and integrate your systems more effectively.\n",
      "- Numpy: fundamental package for scientific computing with a N-dimensional array package.\n",
      "- Scipy: numerical routines for scientific computing.\n",
      "- Matplotlib: comprehensive 2D Plotting.\n",
      "- Sympy: symbolic mathematics.\n",
      "- Pandas: data structures and data analysis tools.\n",
      "- Statsmodels: to explore data, estimate statistical models, and perform statistical tests.\n",
      "- Scikit-learn: tools for data mining and data analysis (including machine learning).\n",
      "- PyQt: Python bindings for the Qt cross-platform graphical user interface toolkit (or the equivalent Pyside).\n",
      "- IPython: enhanced interactive Python shells with support for data visualization, distributed and parallel computation and a browser-based notebook with support for code, text, mathematical expressions, inline plots and other rich media.\n",
      "- Spyder: interactive development environment with advanced editing, interactive testing, debugging and introspection features.\n",
      "\n",
      "These are just the main big packages, behind them there are many other packages that need to be installed in order to use them (but most of these other packages are installed automatically together with the main installations). But the Python ecosystem is huge. For example, the [Python Package Index (PyPI)](https://pypi.python.org/pypi), a repository of software for the Python programming language, has 35071 packages there and counting!"
     ]
    },
    {
     "cell_type": "heading",
     "level": 2,
     "metadata": {},
     "source": [
      "Python 2 or Python 3?"
     ]
    },
    {
     "cell_type": "markdown",
     "metadata": {},
     "source": [
      "*Python 2.x is legacy, Python 3.x is the present and future of the language*.  \n",
      "[Python is transitioning from version 2 to 3](https://wiki.python.org/moin/Python2orPython3) and version 3 breaks backwards compatibility for some functions and because of that part of the comunnity hasn't made this transition yet. The third-party Python libraries for scientific computing have to be rewritten for Python 3; most of them are already compatible, but it seems the community is not ready yet. For instance, the Anaconda distribution ships with both versions but defaults to Python 2.x (download Anaconda3 for default Python 3) and the number of packages for Python 3.x is still smaller than for Python 2.x [[1](http://docs.continuum.io/anaconda/pkgs.html), [2](https://python3wos.appspot.com/)].  \n",
      "I suggest to use Python 3 and add a few lines of code in your programs for some compatibility with Python 2.x.    "
     ]
    },
    {
     "cell_type": "heading",
     "level": 2,
     "metadata": {},
     "source": [
      "Installing the Python ecosystem"
     ]
    },
    {
     "cell_type": "markdown",
     "metadata": {},
     "source": [
      "**The hard way**   \n",
      "You can download Python and all individual packages you need and install them one by one. In general, it's not that difficult, but it can become challenging and painful for certain big packages heavily dependent on math, image visualization, and your operating system. This usually would give you more freedom and control of what, where and when is installed, but there are distribtuions that re-package most things we need (and give an easy way to install other packages) in one single program to install and use it. \n",
      "\n",
      "**The easy way**   \n",
      "The easiest way to get Python and the most popular packages for scientific programming is to install them with a Python distribution such as [Anaconda](https://store.continuum.io/cshop/anaconda/), [Enthought Canopy](https://www.enthought.com/products/canopy/), [Python(x,y)](https://code.google.com/p/pythonxy/), or [WinPython](https://code.google.com/p/winpython/). In fact, you don't even need to install Python in your computer, you can run Python for scientific programming in the cloud using [SageMathCloud](https://cloud.sagemath.com), [Wakari](https://www.wakari.io/), or [pythonanywhere](https://www.pythonanywhere.com/).\n",
      "\n",
      "**Anaconda**  \n",
      "I think the best way to install the Python ecosystem is with the [*Anaconda* distribution](https://store.continuum.io/cshop/anaconda/), which is very complete, free, and cross-platform. Let's see how to install and use *Anaconda*, but it doesn't matter for understanding these notes if you installed them by other way.\n",
      "\n",
      "**Anaconda Installation Instructions**   \n",
      "Go to the [*Anaconda* website](https://store.continuum.io/cshop/anaconda/) and download the appropriate version for your computer. The file is big (between 250 and 450 MB depending on your OS). [From its website](http://docs.continuum.io/anaconda/install.html):   \n",
      "\n",
      ">**Linux / Mac OSX (non-gui)**   \n",
      ">After downloading the installer, in the shell execute   \n",
      "> `$ bash <downloaded file>`   \n",
      "\n",
      ">**Mac OSX**   \n",
      ">After downloading the installer double click the .pkg file and follow the instructions on the screen.   \n",
      "\n",
      ">**Windows**   \n",
      ">After downloading the installer double click the .exe file and follow the instructions on the screen.\n",
      "\n",
      "**Miniconda**   \n",
      "A variation of *Anaconda* is [*Miniconda*](http://repo.continuum.io/miniconda/), which contains only the *Conda* package manager and Python. Once *Miniconda* is installed, you can use the `conda` command to install any other packages and create environments, etc. (see http://repo.continuum.io/miniconda/). The *Miniconda* file is very small and you can install only the packages you are going to use (but you will have to install them manually one by one)."
     ]
    },
    {
     "cell_type": "heading",
     "level": 2,
     "metadata": {},
     "source": [
      "Launching Python"
     ]
    },
    {
     "cell_type": "markdown",
     "metadata": {},
     "source": [
      "After the *Anaconda* installation, you can launch fancier shells for Python than the one we saw when we ran Python in a Terminal window. In the main menu of your OS, you should see icons for different shells inside the *Anaconda* menu. You will be able to run the ipython-notebook, ipython-console, or spyder-app. The first two applications are different ways to run the IPython enhanced interactive Python shell, being the ipython-notebook a much nicer shell running on a web browser. Here is a screenshot of IPython Notebook:\n",
      "\n",
      "<div class='center-align'><figure><img src=\"http://demotu.github.io/galleries/images/ipython_notebook_win7.png\" alt=\"IPython Notebook on Windows OS\" width=640/><figcaption><i>IPython Notebook on Windows OS.</i></figcaption></figure></div> \n",
      "\n",
      "The spyder-app is for launching *Spyder*, an interactive development environment (IDE) for Python and Spyder also includes an IPython shell. *Spyder* is very similar to the Matlab IDE if you are familiar with. Here is a screenshot of Spyder:\n",
      "\n",
      "<div class='center-align'><figure><img src=\"http://demotu.github.io/galleries/images/spyder_win7.png\" alt=\"Spyder on Windows OS\" width=640/><figcaption><i>*Spyder* IDE for Python on Windows 7 OS. An editor appears on left, an IPython shell on the botton right, and a window on the top right for help documentation, variable or file explorer.</i></figcaption></figure></div> \n",
      "\n",
      "Another way to use Python for scientific computing is to use Python in the cloud with for example, [Wakari.io](https://wakari.io/). In this way, you don't have to install anything in your computer. *Wakari* has a free base account and you can buy more computer power according to your needs. Here is a screenshot of the *Wakari* website running an IPython Notebook:\n",
      "\n",
      "<div class='center-align'><figure><img src=\"http://demotu.github.io/galleries/images/wakari.png\" alt=\"Wakari.io\" width=640/><figcaption><i>Wakari: a web-based Python data analysis solution in the cloud.</i></figcaption></figure></div> "
     ]
    },
    {
     "cell_type": "markdown",
     "metadata": {},
     "source": [
      "With everythin installed you can check the libraries you have uing an IPython extension called `version_information.py`, but first we need to install it:"
     ]
    },
    {
     "cell_type": "code",
     "collapsed": false,
     "input": [
      "# Do the installation only once\n",
      "%install_ext http://raw.github.com/jrjohansson/version_information/master/version_information.py"
     ],
     "language": "python",
     "metadata": {},
     "outputs": [
      {
       "output_type": "stream",
       "stream": "stdout",
       "text": [
        "Installed version_information.py. To use it, type:\n",
        "  %load_ext version_information\n"
       ]
      }
     ],
     "prompt_number": 1
    },
    {
     "cell_type": "markdown",
     "metadata": {},
     "source": [
      "And let's use it. For instance these are the main libraries I have installed:"
     ]
    },
    {
     "cell_type": "code",
     "collapsed": false,
     "input": [
      "%load_ext version_information\n",
      "%version_information numpy, scipy, matplotlib, sympy, pandas, pyqt, spyder, pip"
     ],
     "language": "python",
     "metadata": {},
     "outputs": [
      {
       "html": [
        "<table><tr><th>Software</th><th>Version</th></tr><tr><td>Python</td><td>3.4.1 |Anaconda 2.0.1 (64-bit)| (default, May 19 2014, 13:02:30) [MSC v.1600 64 bit (AMD64)]</td></tr><tr><td>IPython</td><td>2.1.0</td></tr><tr><td>OS</td><td>nt [win32]</td></tr><tr><td>numpy</td><td>1.8.1</td></tr><tr><td>scipy</td><td>0.14.0</td></tr><tr><td>matplotlib</td><td>1.3.1</td></tr><tr><td>sympy</td><td>0.7.5</td></tr><tr><td>pandas</td><td>0.14.0</td></tr><tr><td>pyqt</td><td>pyqt</td></tr><tr><td>spyder</td><td>2.3.0rc</td></tr><tr><td>pip</td><td>1.5.6</td></tr><tr><td colspan='2'>Sun Jul 06 14:18:42 2014 E. South America Standard Time</td></tr></table>"
       ],
       "json": [
        "{\"Software versions\": [{\"version\": \"3.4.1 |Anaconda 2.0.1 (64-bit)| (default, May 19 2014, 13:02:30) [MSC v.1600 64 bit (AMD64)]\", \"module\": \"Python\"}, {\"version\": \"2.1.0\", \"module\": \"IPython\"}, {\"version\": \"nt [win32]\", \"module\": \"OS\"}, {\"version\": \"1.8.1\", \"module\": \"numpy\"}, {\"version\": \"0.14.0\", \"module\": \"scipy\"}, {\"version\": \"1.3.1\", \"module\": \"matplotlib\"}, {\"version\": \"0.7.5\", \"module\": \"sympy\"}, {\"version\": \"0.14.0\", \"module\": \"pandas\"}, {\"version\": \"pyqt\", \"module\": \"pyqt\"}, {\"version\": \"2.3.0rc\", \"module\": \"spyder\"}, {\"version\": \"1.5.6\", \"module\": \"pip\"}]}"
       ],
       "latex": [
        "\\begin{tabular}{|l|l|}\\hline\n",
        "{\\bf Software} & {\\bf Version} \\\\ \\hline\\hline\n",
        "Python & 3.4.1 |Anaconda 2.0.1 (64-bit)| (default, May 19 2014, 13:02:30) [MSC v.1600 64 bit (AMD64)] \\\\ \\hline\n",
        "IPython & 2.1.0 \\\\ \\hline\n",
        "OS & nt [win32] \\\\ \\hline\n",
        "numpy & 1.8.1 \\\\ \\hline\n",
        "scipy & 0.14.0 \\\\ \\hline\n",
        "matplotlib & 1.3.1 \\\\ \\hline\n",
        "sympy & 0.7.5 \\\\ \\hline\n",
        "pandas & 0.14.0 \\\\ \\hline\n",
        "pyqt & pyqt \\\\ \\hline\n",
        "spyder & 2.3.0rc \\\\ \\hline\n",
        "pip & 1.5.6 \\\\ \\hline\n",
        "\\hline \\multicolumn{2}{|l|}{Sun Jul 06 14:18:42 2014 E. South America Standard Time} \\\\ \\hline\n",
        "\\end{tabular}\n"
       ],
       "metadata": {},
       "output_type": "pyout",
       "prompt_number": 2,
       "text": [
        "Software versions\n",
        "Python 3.4.1 |Anaconda 2.0.1 (64-bit)| (default, May 19 2014, 13:02:30) [MSC v.1600 64 bit (AMD64)]\n",
        "IPython 2.1.0\n",
        "OS nt [win32]\n",
        "numpy 1.8.1\n",
        "scipy 0.14.0\n",
        "matplotlib 1.3.1\n",
        "sympy 0.7.5\n",
        "pandas 0.14.0\n",
        "pyqt pyqt\n",
        "spyder 2.3.0rc\n",
        "pip 1.5.6\n",
        "<tr><td colspan='2'>Sun Jul 06 14:18:42 2014 E. South America Standard Time</td></tr>"
       ]
      }
     ],
     "prompt_number": 2
    },
    {
     "cell_type": "markdown",
     "metadata": {},
     "source": [
      "> This page was written in the [IPython Notebook](http://ipython.org/notebook.html).  \n",
      "To download this notebook click on the option `Source` at the top menu or get it from the [related github repo](https://github.com/demotu/BMC)."
     ]
    }
   ],
   "metadata": {}
  }
 ]
}